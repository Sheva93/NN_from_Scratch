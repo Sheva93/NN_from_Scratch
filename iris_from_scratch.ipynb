{
 "cells": [
  {
   "cell_type": "code",
   "execution_count": 1,
   "metadata": {},
   "outputs": [],
   "source": [
    "from sklearn.model_selection import train_test_split\n",
    "from sklearn.datasets import load_iris\n",
    "import matplotlib.pyplot as plt\n",
    "import numpy as np\n",
    "#import copy"
   ]
  },
  {
   "cell_type": "code",
   "execution_count": 2,
   "metadata": {},
   "outputs": [
    {
     "name": "stdout",
     "output_type": "stream",
     "text": [
      "(112,)\n"
     ]
    }
   ],
   "source": [
    "data_iris = load_iris()\n",
    "X = data_iris['data']\n",
    "y = data_iris['target']\n",
    "X = (X - X.mean(axis=0))/X.std(axis=0)\n",
    "X_train,X_test,y_train,y_test = train_test_split(X,y)\n",
    "\n",
    "print(y_train.shape)"
   ]
  },
  {
   "cell_type": "code",
   "execution_count": 3,
   "metadata": {},
   "outputs": [],
   "source": [
    "X_train = np.append(X_train,X_train).reshape(-1,4)\n",
    "y_train = np.append(y_train,y_train)"
   ]
  },
  {
   "cell_type": "code",
   "execution_count": 4,
   "metadata": {},
   "outputs": [
    {
     "data": {
      "text/plain": [
       "(224,)"
      ]
     },
     "execution_count": 4,
     "metadata": {},
     "output_type": "execute_result"
    }
   ],
   "source": [
    "#num_classes=len(data_iris[\"target_names\"])\n",
    "num_classes = len(np.unique(y))\n",
    "y_train.shape"
   ]
  },
  {
   "cell_type": "code",
   "execution_count": 5,
   "metadata": {},
   "outputs": [],
   "source": [
    "def batch_generator(X,y, batch_size):\n",
    "        \n",
    "    num_samples = X.shape[0]\n",
    "    \n",
    "    order = np.random.permutation(num_samples)\n",
    "    num_batches = int(num_samples/batch_size)\n",
    "    \n",
    "    for i in range(num_batches):\n",
    "        batch_indexes = order[i * batch_size:(i+1) * batch_size]\n",
    "        \n",
    "        X_ = X[batch_indexes]\n",
    "        y_ = y[batch_indexes]\n",
    "        \n",
    "        yield X_,y_\n",
    "        "
   ]
  },
  {
   "cell_type": "code",
   "execution_count": 6,
   "metadata": {},
   "outputs": [],
   "source": [
    "def softmax(output_y):\n",
    "    exp_output = np.exp(output_y)\n",
    "    return exp_output/np.sum(exp_output, axis=1, keepdims=True)\n",
    "\n",
    "def ReLU(output_):\n",
    "    return np.maximum(0,output_)\n",
    "    \n",
    "class Dense_NN:\n",
    "    def __init__(self):\n",
    "        \n",
    "        self.lr = None\n",
    "        self.reg = None\n",
    "        \n",
    "        #weights\n",
    "        self.W_ih = None\n",
    "        self.W_ho = None\n",
    "        \n",
    "        self.b_ih = None\n",
    "        self.b_ho = None\n",
    "        \n",
    "        self.f_output_ih = None #RElU\n",
    "        #self.f_output_ho = None #Softmax\n",
    "        \n",
    "        self.train_losses = []\n",
    "        self.test_losses = []\n",
    "        \n",
    "        self.train_acc = []\n",
    "        self.test_acc = []\n",
    "        \n",
    "    def set_weights(self, input_size, size_hdn_layer, output_size):\n",
    "        \n",
    "        np.random.seed(30)\n",
    "        \n",
    "        self.W_ih = np.random.normal(0,0.01,(input_size, size_hdn_layer))\n",
    "        self.W_ho = np.random.normal(0,0.01,(size_hdn_layer, output_size))\n",
    "        \n",
    "        self.b_ih = np.random.normal(0,0.01,(1,size_hdn_layer))\n",
    "        self.b_ho = np.random.normal(0,0.01,(1,output_size))\n",
    "        \n",
    "    def correct_logprobs(self,y_true,y_pred):\n",
    "        correct_logprob = -np.log(y_pred[range(len(y_true)),y_true])\n",
    "        data_loss = np.sum(correct_logprob)/len(y_true)\n",
    "                \n",
    "        reg_loss = 0.5 * self.reg * np.sum(self.W_ih * self.W_ih) + \\\n",
    "                   0.5 * self.reg * np.sum(self.W_ho * self.W_ho)\n",
    "        \n",
    "        return data_loss + reg_loss\n",
    "    \n",
    "    def train(self, model,\n",
    "              X_train, y_train, X_test, y_test, \n",
    "              output_size, h_layer_size =30,\n",
    "              lr = 1e-3, reg =0.001,epochs=12000, delay_stopping=1000):\n",
    "        \n",
    "        batch_size = 25\n",
    "        \n",
    "        #set hyperparameters\n",
    "        self.lr = lr\n",
    "        self.reg = reg\n",
    "        \n",
    "        num_samples = X_train.shape[0]\n",
    "        num_inputs = X_train.shape[1]\n",
    "        \n",
    "        self.set_weights(num_inputs, h_layer_size, output_size)\n",
    "        \n",
    "        best_loss_test = float('inf')\n",
    "        #best_model = None\n",
    "                \n",
    "        for epoch in range(epochs):\n",
    "            #clean metrics variables\n",
    "            epoch_train_losses = []\n",
    "            epoch_train_acc = []\n",
    "                        \n",
    "            for X_batch,y_batch in batch_generator(X_train, y_train, batch_size):\n",
    "                \n",
    "                y_pred_train = self.predict(X_batch)\n",
    "                \n",
    "                #loss function\n",
    "                loss_train = self.correct_logprobs(y_batch, y_pred_train)\n",
    "                epoch_train_losses.append(loss_train)\n",
    "                \n",
    "                #accuracy on train\n",
    "                acc_train = np.sum((np.argmax(y_pred_train, axis=1) == y_batch))/len(y_batch) \n",
    "                            \n",
    "                #append accuracy value for every bacth gradient\n",
    "                epoch_train_acc.append(acc_train)\n",
    "                \n",
    "                #backpropagation\n",
    "                self.backward(X_batch, y_batch, y_pred_train)\n",
    "            \n",
    "            #test predictions\n",
    "            self.train_losses.append(np.mean(epoch_train_losses))\n",
    "            self.train_acc.append(np.mean(epoch_train_acc))\n",
    "            \n",
    "            #test predicitons\n",
    "            y_pred_test = self.predict(X_test)\n",
    "            \n",
    "            #calculating loss function and saving it\n",
    "            loss_test = self.correct_logprobs(y_test, y_pred_test)\n",
    "            self.test_losses.append(loss_test)\n",
    "        \n",
    "            #calculating accuracy value and saving it            \n",
    "            \n",
    "            acc_test = np.sum(np.argmax(y_pred_test, axis=1) == y_test)/len(y_test)\n",
    "            self.test_acc.append(acc_test)\n",
    "           \n",
    "            if epoch % 100 == 0:\n",
    "                print(\"Epoch {}. train_loss: {:.4f} - test_loss {:.4f} \".\n",
    "                      format(epoch, np.mean(epoch_train_losses),loss_test))\n",
    "\n",
    "            if loss_test < best_loss_test:\n",
    "                best_loss_test = loss_test\n",
    "                #best_model = copy.deepcopy(model)\n",
    "                best_epoch = epoch\n",
    "            elif (epoch - best_epoch) == delay_stopping:\n",
    "                print(\"Stopped on epoch {}. Best loss value: {:.4f} on epoch {}\".\n",
    "                     format(epoch,best_loss_test,best_epoch))     \n",
    "                break\n",
    "                \n",
    "        return self.train_losses, self.test_losses\n",
    "    \n",
    "    def predict(self, X_):\n",
    "        output_ih = np.dot(X_, self.W_ih) + self.b_ih\n",
    "        self.f_output_ih = ReLU(output_ih)\n",
    "        \n",
    "        output_ho = np.dot(self.f_output_ih, self.W_ho) + self.b_ho\n",
    "        #self.f_output_ho = softmax(output_ho) \n",
    "        \n",
    "        #return predicted classes by its probability\n",
    "        return softmax(output_ho) \n",
    "    \n",
    "\n",
    "    def backward(self, X_batch, y_batch, y_pred):\n",
    "        \n",
    "        dscores = y_pred\n",
    "        dscores[range(X_batch.shape[0]),y_batch] -= 1\n",
    "        dscores /= X_batch.shape[0]\n",
    "        \n",
    "        dW2 = np.dot(self.f_output_ih.T, dscores)\n",
    "        db2 = np.sum(dscores, axis=0, keepdims=True)\n",
    "        \n",
    "        dhidden = np.dot(dscores, self.W_ho.T)\n",
    "        dhidden[self.f_output_ih <= 0] = 0\n",
    "        \n",
    "        dW1 = np.dot(X_batch.T, dhidden)\n",
    "        db1 = np.sum(dhidden, axis=0, keepdims=True)\n",
    "        \n",
    "        dW2 += self.reg * self.W_ho\n",
    "        dW1 += self.reg * self.W_ih\n",
    "        \n",
    "        #parameters update\n",
    "        self.W_ho += -self.lr * dW2\n",
    "        self.b_ho += -self.lr * db2\n",
    "        \n",
    "        self.W_ih += -self.lr * dW1\n",
    "        self.b_ih += -self.lr * db1\n"
   ]
  },
  {
   "cell_type": "code",
   "execution_count": 7,
   "metadata": {},
   "outputs": [
    {
     "name": "stdout",
     "output_type": "stream",
     "text": [
      "Epoch 0. train_loss: 1.0982 - test_loss 1.0998 \n",
      "Epoch 100. train_loss: 1.0968 - test_loss 1.1003 \n",
      "Epoch 200. train_loss: 1.0941 - test_loss 1.0986 \n",
      "Epoch 300. train_loss: 1.0846 - test_loss 1.0922 \n",
      "Epoch 400. train_loss: 1.0561 - test_loss 1.0732 \n",
      "Epoch 500. train_loss: 0.9975 - test_loss 1.0259 \n",
      "Epoch 600. train_loss: 0.8843 - test_loss 0.9387 \n",
      "Epoch 700. train_loss: 0.7660 - test_loss 0.8350 \n",
      "Epoch 800. train_loss: 0.6555 - test_loss 0.7443 \n",
      "Epoch 900. train_loss: 0.5999 - test_loss 0.6708 \n",
      "Epoch 1000. train_loss: 0.5432 - test_loss 0.6128 \n",
      "Epoch 1100. train_loss: 0.4929 - test_loss 0.5673 \n",
      "Epoch 1200. train_loss: 0.4656 - test_loss 0.5305 \n",
      "Epoch 1300. train_loss: 0.4253 - test_loss 0.4994 \n",
      "Epoch 1400. train_loss: 0.4146 - test_loss 0.4718 \n",
      "Epoch 1500. train_loss: 0.3760 - test_loss 0.4470 \n",
      "Epoch 1600. train_loss: 0.3639 - test_loss 0.4246 \n",
      "Epoch 1700. train_loss: 0.3635 - test_loss 0.4039 \n",
      "Epoch 1800. train_loss: 0.3428 - test_loss 0.3851 \n",
      "Epoch 1900. train_loss: 0.3128 - test_loss 0.3678 \n",
      "Epoch 2000. train_loss: 0.3104 - test_loss 0.3518 \n",
      "Epoch 2100. train_loss: 0.2955 - test_loss 0.3369 \n",
      "Epoch 2200. train_loss: 0.2756 - test_loss 0.3228 \n",
      "Epoch 2300. train_loss: 0.2706 - test_loss 0.3098 \n",
      "Epoch 2400. train_loss: 0.2509 - test_loss 0.2974 \n",
      "Epoch 2500. train_loss: 0.2458 - test_loss 0.2855 \n",
      "Epoch 2600. train_loss: 0.2345 - test_loss 0.2743 \n",
      "Epoch 2700. train_loss: 0.2388 - test_loss 0.2637 \n",
      "Epoch 2800. train_loss: 0.2426 - test_loss 0.2540 \n",
      "Epoch 2900. train_loss: 0.2266 - test_loss 0.2440 \n",
      "Epoch 3000. train_loss: 0.2187 - test_loss 0.2352 \n",
      "Epoch 3100. train_loss: 0.2129 - test_loss 0.2266 \n",
      "Epoch 3200. train_loss: 0.2000 - test_loss 0.2184 \n",
      "Epoch 3300. train_loss: 0.1923 - test_loss 0.2102 \n",
      "Epoch 3400. train_loss: 0.1856 - test_loss 0.2029 \n",
      "Epoch 3500. train_loss: 0.1808 - test_loss 0.1960 \n",
      "Epoch 3600. train_loss: 0.1776 - test_loss 0.1891 \n",
      "Epoch 3700. train_loss: 0.1794 - test_loss 0.1825 \n",
      "Epoch 3800. train_loss: 0.1720 - test_loss 0.1765 \n",
      "Epoch 3900. train_loss: 0.1623 - test_loss 0.1707 \n",
      "Epoch 4000. train_loss: 0.1587 - test_loss 0.1650 \n",
      "Epoch 4100. train_loss: 0.1459 - test_loss 0.1598 \n",
      "Epoch 4200. train_loss: 0.1514 - test_loss 0.1548 \n",
      "Epoch 4300. train_loss: 0.1356 - test_loss 0.1503 \n",
      "Epoch 4400. train_loss: 0.1418 - test_loss 0.1461 \n",
      "Epoch 4500. train_loss: 0.1398 - test_loss 0.1418 \n",
      "Epoch 4600. train_loss: 0.1308 - test_loss 0.1377 \n",
      "Epoch 4700. train_loss: 0.1394 - test_loss 0.1339 \n",
      "Epoch 4800. train_loss: 0.1376 - test_loss 0.1304 \n",
      "Epoch 4900. train_loss: 0.1337 - test_loss 0.1271 \n",
      "Epoch 5000. train_loss: 0.1235 - test_loss 0.1241 \n",
      "Epoch 5100. train_loss: 0.1211 - test_loss 0.1212 \n",
      "Epoch 5200. train_loss: 0.1179 - test_loss 0.1182 \n",
      "Epoch 5300. train_loss: 0.1257 - test_loss 0.1154 \n",
      "Epoch 5400. train_loss: 0.1150 - test_loss 0.1128 \n",
      "Epoch 5500. train_loss: 0.1127 - test_loss 0.1106 \n",
      "Epoch 5600. train_loss: 0.1109 - test_loss 0.1086 \n",
      "Epoch 5700. train_loss: 0.1050 - test_loss 0.1066 \n",
      "Epoch 5800. train_loss: 0.1097 - test_loss 0.1047 \n",
      "Epoch 5900. train_loss: 0.1086 - test_loss 0.1026 \n",
      "Epoch 6000. train_loss: 0.1036 - test_loss 0.1007 \n",
      "Epoch 6100. train_loss: 0.1029 - test_loss 0.0991 \n",
      "Epoch 6200. train_loss: 0.1036 - test_loss 0.0974 \n",
      "Epoch 6300. train_loss: 0.1017 - test_loss 0.0958 \n",
      "Epoch 6400. train_loss: 0.1040 - test_loss 0.0945 \n",
      "Epoch 6500. train_loss: 0.1040 - test_loss 0.0933 \n",
      "Epoch 6600. train_loss: 0.0953 - test_loss 0.0920 \n",
      "Epoch 6700. train_loss: 0.0977 - test_loss 0.0906 \n",
      "Epoch 6800. train_loss: 0.0960 - test_loss 0.0894 \n",
      "Epoch 6900. train_loss: 0.1012 - test_loss 0.0884 \n",
      "Epoch 7000. train_loss: 0.0882 - test_loss 0.0873 \n",
      "Epoch 7100. train_loss: 0.0951 - test_loss 0.0864 \n",
      "Epoch 7200. train_loss: 0.0921 - test_loss 0.0853 \n",
      "Epoch 7300. train_loss: 0.0932 - test_loss 0.0844 \n",
      "Epoch 7400. train_loss: 0.0968 - test_loss 0.0834 \n",
      "Epoch 7500. train_loss: 0.0860 - test_loss 0.0825 \n",
      "Epoch 7600. train_loss: 0.0885 - test_loss 0.0817 \n",
      "Epoch 7700. train_loss: 0.0935 - test_loss 0.0809 \n",
      "Epoch 7800. train_loss: 0.0871 - test_loss 0.0802 \n",
      "Epoch 7900. train_loss: 0.0891 - test_loss 0.0795 \n",
      "Epoch 8000. train_loss: 0.0912 - test_loss 0.0788 \n",
      "Epoch 8100. train_loss: 0.0924 - test_loss 0.0782 \n",
      "Epoch 8200. train_loss: 0.0791 - test_loss 0.0776 \n",
      "Epoch 8300. train_loss: 0.0839 - test_loss 0.0770 \n",
      "Epoch 8400. train_loss: 0.0857 - test_loss 0.0765 \n",
      "Epoch 8500. train_loss: 0.0854 - test_loss 0.0758 \n",
      "Epoch 8600. train_loss: 0.0871 - test_loss 0.0753 \n",
      "Epoch 8700. train_loss: 0.0757 - test_loss 0.0747 \n",
      "Epoch 8800. train_loss: 0.0898 - test_loss 0.0742 \n",
      "Epoch 8900. train_loss: 0.0884 - test_loss 0.0737 \n",
      "Epoch 9000. train_loss: 0.0819 - test_loss 0.0732 \n",
      "Epoch 9100. train_loss: 0.0856 - test_loss 0.0727 \n",
      "Epoch 9200. train_loss: 0.0875 - test_loss 0.0723 \n",
      "Epoch 9300. train_loss: 0.0715 - test_loss 0.0719 \n",
      "Epoch 9400. train_loss: 0.0828 - test_loss 0.0714 \n",
      "Epoch 9500. train_loss: 0.0806 - test_loss 0.0711 \n",
      "Epoch 9600. train_loss: 0.0784 - test_loss 0.0708 \n",
      "Epoch 9700. train_loss: 0.0849 - test_loss 0.0703 \n",
      "Epoch 9800. train_loss: 0.0762 - test_loss 0.0701 \n",
      "Epoch 9900. train_loss: 0.0801 - test_loss 0.0697 \n",
      "Epoch 10000. train_loss: 0.0813 - test_loss 0.0693 \n",
      "Epoch 10100. train_loss: 0.0829 - test_loss 0.0691 \n",
      "Epoch 10200. train_loss: 0.0741 - test_loss 0.0688 \n",
      "Epoch 10300. train_loss: 0.0791 - test_loss 0.0686 \n",
      "Epoch 10400. train_loss: 0.0739 - test_loss 0.0682 \n",
      "Epoch 10500. train_loss: 0.0742 - test_loss 0.0678 \n",
      "Epoch 10600. train_loss: 0.0813 - test_loss 0.0676 \n",
      "Epoch 10700. train_loss: 0.0772 - test_loss 0.0673 \n",
      "Epoch 10800. train_loss: 0.0762 - test_loss 0.0670 \n",
      "Epoch 10900. train_loss: 0.0811 - test_loss 0.0668 \n",
      "Epoch 11000. train_loss: 0.0746 - test_loss 0.0666 \n",
      "Epoch 11100. train_loss: 0.0728 - test_loss 0.0664 \n",
      "Epoch 11200. train_loss: 0.0820 - test_loss 0.0662 \n",
      "Epoch 11300. train_loss: 0.0811 - test_loss 0.0660 \n",
      "Epoch 11400. train_loss: 0.0704 - test_loss 0.0658 \n",
      "Epoch 11500. train_loss: 0.0724 - test_loss 0.0655 \n",
      "Epoch 11600. train_loss: 0.0759 - test_loss 0.0654 \n",
      "Epoch 11700. train_loss: 0.0804 - test_loss 0.0652 \n",
      "Epoch 11800. train_loss: 0.0742 - test_loss 0.0649 \n",
      "Epoch 11900. train_loss: 0.0782 - test_loss 0.0648 \n"
     ]
    }
   ],
   "source": [
    "model = Dense_NN()\n",
    "\n",
    "train_losses, test_losses = model.train(model, X_train, y_train, X_test, y_test,num_classes)"
   ]
  },
  {
   "cell_type": "code",
   "execution_count": 9,
   "metadata": {},
   "outputs": [
    {
     "data": {
      "image/png": "[encoded data removed]",
      "text/plain": [
       "<Figure size 720x360 with 1 Axes>"
      ]
     },
     "metadata": {
      "needs_background": "light"
     },
     "output_type": "display_data"
    }
   ],
   "source": [
    "plt.plot(range(len(train_losses)),train_losses, label='train')\n",
    "plt.plot(range(len(test_losses)),test_losses, label='test')\n",
    "plt.legend()\n",
    "plt.rcParams[\"figure.figsize\"] = (10,5)\n",
    "plt.show()"
   ]
  },
  {
   "cell_type": "code",
   "execution_count": 10,
   "metadata": {},
   "outputs": [
    {
     "data": {
      "image/png": "[encoded data removed]",
      "text/plain": [
       "<Figure size 720x360 with 1 Axes>"
      ]
     },
     "metadata": {
      "needs_background": "light"
     },
     "output_type": "display_data"
    }
   ],
   "source": [
    "accuracy_train = model.train_acc\n",
    "accuracy_test = model.test_acc\n",
    "\n",
    "plt.plot(range(len(accuracy_train)), accuracy_train, label='acc_train')\n",
    "plt.plot(range(len(accuracy_test)), accuracy_test, label='acc_test')\n",
    "plt.legend()\n",
    "plt.rcParams[\"figure.figsize\"] = (10,5)\n",
    "plt.show()"
   ]
  },
  {
   "cell_type": "code",
   "execution_count": 11,
   "metadata": {},
   "outputs": [],
   "source": [
    "from sklearn.metrics import accuracy_score\n",
    "\n",
    "_train_pred = model.predict(X_train)\n",
    "_test_pred = model.predict(X_test)\n",
    "\n",
    "accuracy_train = accuracy_score(y_train,np.argmax(_train_pred,axis=1))\n",
    "accuracy_test = accuracy_score(y_test,np.argmax(_test_pred, axis=1))"
   ]
  },
  {
   "cell_type": "code",
   "execution_count": 12,
   "metadata": {},
   "outputs": [
    {
     "name": "stdout",
     "output_type": "stream",
     "text": [
      "0.9732142857142857\n",
      "1.0\n"
     ]
    }
   ],
   "source": [
    "print(accuracy_train)\n",
    "print(accuracy_test)"
   ]
  },
  {
   "cell_type": "code",
   "execution_count": null,
   "metadata": {},
   "outputs": [],
   "source": []
  }
 ],
 "metadata": {
  "kernelspec": {
   "display_name": "Python 3",
   "language": "python",
   "name": "python3"
  },
  "language_info": {
   "codemirror_mode": {
    "name": "ipython",
    "version": 3
   },
   "file_extension": ".py",
   "mimetype": "text/x-python",
   "name": "python",
   "nbconvert_exporter": "python",
   "pygments_lexer": "ipython3",
   "version": "3.6.10"
  }
 },
 "nbformat": 4,
 "nbformat_minor": 2
}
